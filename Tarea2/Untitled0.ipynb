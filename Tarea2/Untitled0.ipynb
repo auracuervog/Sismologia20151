{
 "metadata": {
  "name": "",
  "signature": "sha256:c31bc6949445f6aeffdfc7d54a7f3230faeed8eb153075b95bec6b6ef61a3738"
 },
 "nbformat": 3,
 "nbformat_minor": 0,
 "worksheets": []
}