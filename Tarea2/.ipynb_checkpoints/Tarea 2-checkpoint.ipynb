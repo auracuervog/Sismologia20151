{
 "metadata": {
  "name": "",
  "signature": "sha256:3c9975acf41e08dcee92b98cc1c92911efff8a9731b453405173c2e0a34f6e1e"
 },
 "nbformat": 3,
 "nbformat_minor": 0,
 "worksheets": [
  {
   "cells": [
    {
     "cell_type": "heading",
     "level": 1,
     "metadata": {},
     "source": [
      "Tarea 2 Sismolog\u00eda"
     ]
    },
    {
     "cell_type": "heading",
     "level": 2,
     "metadata": {},
     "source": [
      "Universidad de Chile"
     ]
    },
    {
     "cell_type": "heading",
     "level": 3,
     "metadata": {},
     "source": [
      "Por: Aura Cuervo G\u00f3mez"
     ]
    },
    {
     "cell_type": "markdown",
     "metadata": {},
     "source": [
      "En el repositorio en GitHub de la tarea 2, se encuentran dos archivos: \"Sismogramas_evento1.ipynb\" y \"Sismogramas_evento2.ipynb\", cada uno cuenta con los sismogramas y diagramas de movimiento de part\u00edculas para las estaciones.A continuaci\u00f3n se har\u00e1 un ejemplo para ilustrar cu\u00e1l fue el procedimiento utilizado:"
     ]
    },
    {
     "cell_type": "code",
     "collapsed": false,
     "input": [
      "%pylab inline\n",
      "import numpy as np\n",
      "import matplotlib.pyplot as plt\n",
      "import math"
     ],
     "language": "python",
     "metadata": {},
     "outputs": [
      {
       "output_type": "stream",
       "stream": "stdout",
       "text": [
        "Populating the interactive namespace from numpy and matplotlib\n"
       ]
      }
     ],
     "prompt_number": 1
    },
    {
     "cell_type": "code",
     "collapsed": false,
     "input": [],
     "language": "python",
     "metadata": {},
     "outputs": []
    }
   ],
   "metadata": {}
  }
 ]
}